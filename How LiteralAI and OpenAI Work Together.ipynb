{
 "cells": [
  {
   "cell_type": "markdown",
   "metadata": {},
   "source": [
    "# How LiteralAI and OpenAI Work Together \n",
    "\n",
    "The LiteralClient and OpenAI constuctors and clients interact."
   ]
  },
  {
   "cell_type": "markdown",
   "metadata": {},
   "source": [
    "Let's break down how this code works step by step:\n",
    "\n",
    "### 1. Component Setup\n"
   ]
  },
  {
   "cell_type": "markdown",
   "metadata": {},
   "source": [
    "- Two main clients are being created:\n",
    "  - LiteralAI client (lai)\n",
    "  - OpenAI client (oai)\n"
   ]
  },
  {
   "cell_type": "markdown",
   "metadata": {},
   "source": [
    "\n",
    "### 2. Sequence of Operations\n"
   ]
  },
  {
   "cell_type": "markdown",
   "metadata": {},
   "source": [
    "\n",
    "1. **LiteralAI Client Initialization**\n"
   ]
  },
  {
   "cell_type": "code",
   "execution_count": null,
   "metadata": {},
   "outputs": [],
   "source": [
    "lai = LiteralClient(api_key=os.getenv(\"LITERAL_API_KEY\"))"
   ]
  },
  {
   "cell_type": "markdown",
   "metadata": {},
   "source": [
    "- Creates a LiteralAI client using an API key from environment variables\n",
    "- LiteralAI is a monitoring/observability platform for LLM applications\n",
    "\n",
    "2. **OpenAI Instrumentation**\n"
   ]
  },
  {
   "cell_type": "code",
   "execution_count": null,
   "metadata": {},
   "outputs": [],
   "source": [
    "lai.instrument_openai()"
   ]
  },
  {
   "cell_type": "markdown",
   "metadata": {},
   "source": [
    "- This call modifies the OpenAI client behavior\n",
    "- Adds monitoring capabilities to track all OpenAI API calls\n",
    "- Must be called before creating the OpenAI client\n",
    "\n",
    "3. **OpenAI Client Creation**\n"
   ]
  },
  {
   "cell_type": "code",
   "execution_count": null,
   "metadata": {},
   "outputs": [],
   "source": [
    "oai = OpenAI(api_key=os.getenv(\"OPENAI_API_KEY\"))"
   ]
  },
  {
   "cell_type": "markdown",
   "metadata": {},
   "source": [
    "- Creates an OpenAI client using its API key\n",
    "- This client is now \"instrumented\" by LiteralAI\n",
    "\n",
    "4. **Chat Completion**\n"
   ]
  },
  {
   "cell_type": "code",
   "execution_count": null,
   "metadata": {},
   "outputs": [],
   "source": [
    "result, filepath = get_chat_completion(oai, prompt)"
   ]
  },
  {
   "cell_type": "markdown",
   "metadata": {},
   "source": [
    "- Uses the instrumented OpenAI client\n",
    "- LiteralAI automatically logs this interaction\n",
    "- Returns both the result and a filepath\n",
    "\n",
    "### 3. Interaction Flow\n"
   ]
  },
  {
   "cell_type": "code",
   "execution_count": null,
   "metadata": {
    "vscode": {
     "languageId": "mermaid"
    }
   },
   "outputs": [],
   "source": [
    "graph LR\n",
    "    A[LiteralAI Client] -->|Instruments| B[OpenAI SDK]\n",
    "    B -->|Creates| C[OpenAI Client]\n",
    "    C -->|Makes API Call| D[OpenAI API]\n",
    "    A -->|Monitors| D"
   ]
  }
 ],
 "metadata": {
  "language_info": {
   "name": "python"
  }
 },
 "nbformat": 4,
 "nbformat_minor": 2
}
